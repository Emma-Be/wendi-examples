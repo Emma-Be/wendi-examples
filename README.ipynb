{
 "cells": [
  {
   "cell_type": "markdown",
   "metadata": {},
   "source": [
    "# The Web Exploration of NuGrid Datasets: Interactive (WENDI)\n",
    "\n",
    "The interface provides a variety of NuGrid data access, processing and analysis tools via Jupyter notebooks."
   ]
  },
  {
   "cell_type": "markdown",
   "metadata": {},
   "source": [
    "## Stellar evolution and nucleosynthesis data\n",
    "\n",
    "NuGrid provides stellar evolution and post-processing nucleosynthesis data for exploration in the ```StellarDataSets``` directory.\n",
    "A interface to explore data is in ```Stellar evolution and nucleosynthesis data/Star_explore.ipynb```.\n",
    "Analysis examples can be found in ```Stellar evolution and nucleosynthesis data/Examples```."
   ]
  },
  {
   "cell_type": "markdown",
   "metadata": {},
   "source": [
    "## SYGMA\n",
    "\n",
    "Capabilities for the Stellar Yields for Galactic Modeling Applications (SYGMA) module are in teh ```SYGMA``` directory.\n",
    "The SYGMA web interface can be found in ```SYGMA/SYGMA_web_interface.ipynb```.\n",
    "The interface allows to calculate the ejecta and stellar feedback of simple stellar populations as a function of time.\n",
    "Figures of the SYGMA paper can be found in ```SYGMA/SYGMA_paper ```."
   ]
  }
 ],
 "metadata": {
  "kernelspec": {
   "display_name": "Python 2",
   "language": "python",
   "name": "python2"
  },
  "language_info": {
   "codemirror_mode": {
    "name": "ipython",
    "version": 2
   },
   "file_extension": ".py",
   "mimetype": "text/x-python",
   "name": "python",
   "nbconvert_exporter": "python",
   "pygments_lexer": "ipython2",
   "version": "2.7.13"
  }
 },
 "nbformat": 4,
 "nbformat_minor": 2
}
