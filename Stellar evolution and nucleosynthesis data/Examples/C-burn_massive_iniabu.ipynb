{
 "cells": [
  {
   "cell_type": "markdown",
   "metadata": {},
   "source": [
    "# C-burning shell in massive star\n",
    "In this notebook we identify a C-burning shell in a massive star and extract abundances at a mass coordinate inside. These may then be used as initial abudnances for a PPN one-zone simulation.\n",
    "\n",
    "FH "
   ]
  },
  {
   "cell_type": "code",
   "execution_count": null,
   "metadata": {},
   "outputs": [],
   "source": [
    "%pylab \n",
    "from nugridpy import nugridse as mp\n",
    "from nugridpy import mesa as ms\n",
    "\n",
    "data_dir=\"/data/nugrid_apod2/\"    \n",
    "#data_dir=\"/data/nugrid_vos/\"    \n",
    "\n",
    "\n",
    "ms.set_nugrid_path(data_dir)\n",
    "mp.set_nugrid_path(data_dir)"
   ]
  },
  {
   "cell_type": "code",
   "execution_count": null,
   "metadata": {},
   "outputs": [],
   "source": [
    "s=ms.star_log(mass=20,Z=0.02)"
   ]
  },
  {
   "cell_type": "code",
   "execution_count": null,
   "metadata": {
    "scrolled": false
   },
   "outputs": [],
   "source": [
    "ifig=107;close(ifig);figure(ifig)\n",
    "s.kip_cont(ifig=ifig,xlims=[4400, 5400], ylims=[1.0,5.])"
   ]
  },
  {
   "cell_type": "code",
   "execution_count": null,
   "metadata": {},
   "outputs": [],
   "source": [
    "pt=mp.se(mass=20,Z=0.02)"
   ]
  },
  {
   "cell_type": "code",
   "execution_count": null,
   "metadata": {},
   "outputs": [],
   "source": [
    "species=['H-1','He-4','C-12','C-13','N-14','O-16']\n",
    "ifig=108;close(ifig);figure(ifig)\n",
    "pt.abu_profile(isos=species, ifig=ifig, fname=5180, logy=True)\n",
    "ylim(-7,0)\n",
    "xlim(1.0,5.)"
   ]
  },
  {
   "cell_type": "code",
   "execution_count": null,
   "metadata": {},
   "outputs": [],
   "source": [
    "pt.abund_at_masscoordinate(5180,3.5,online=True)"
   ]
  },
  {
   "cell_type": "code",
   "execution_count": null,
   "metadata": {},
   "outputs": [],
   "source": []
  }
 ],
 "metadata": {
  "kernelspec": {
   "display_name": "Python 3",
   "language": "python",
   "name": "python3"
  },
  "language_info": {
   "codemirror_mode": {
    "name": "ipython",
    "version": 3
   },
   "file_extension": ".py",
   "mimetype": "text/x-python",
   "name": "python",
   "nbconvert_exporter": "python",
   "pygments_lexer": "ipython3",
   "version": "3.5.2"
  }
 },
 "nbformat": 4,
 "nbformat_minor": 1
}
