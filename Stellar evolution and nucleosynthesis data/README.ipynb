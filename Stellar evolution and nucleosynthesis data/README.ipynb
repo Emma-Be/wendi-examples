{
 "cells": [
  {
   "cell_type": "markdown",
   "metadata": {},
   "source": [
    "# Stellar Data Sets"
   ]
  },
  {
   "cell_type": "markdown",
   "metadata": {},
   "source": [
    "\n",
    "A web interface for the exploration of data is Star_explore.ipynb.\n",
    "In the ```Examples``` directory we provide examples for different specific functionalities.\n",
    "\n",
    "The datasets are from Set I and Set II and further information is provided on the [NuGrid webpage](http://www.nugridstars.org/data-and-software/yields/set-1/)."
   ]
  }
 ],
 "metadata": {
  "kernelspec": {
   "display_name": "Python 2",
   "language": "python",
   "name": "python2"
  },
  "language_info": {
   "codemirror_mode": {
    "name": "ipython",
    "version": 2
   },
   "file_extension": ".py",
   "mimetype": "text/x-python",
   "name": "python",
   "nbconvert_exporter": "python",
   "pygments_lexer": "ipython2",
   "version": "2.7.13"
  }
 },
 "nbformat": 4,
 "nbformat_minor": 2
}
