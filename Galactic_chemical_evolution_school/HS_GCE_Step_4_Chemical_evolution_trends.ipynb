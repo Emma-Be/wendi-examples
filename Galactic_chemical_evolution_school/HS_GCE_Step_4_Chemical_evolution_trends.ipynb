{
 "cells": [
  {
   "cell_type": "markdown",
   "metadata": {},
   "source": [
    "# Step 4 - Chemical Evolution Trends"
   ]
  },
  {
   "cell_type": "markdown",
   "metadata": {},
   "source": [
    "This notebook presents how to confront your Milky Way model with stellar abundances data."
   ]
  },
  {
   "cell_type": "markdown",
   "metadata": {},
   "source": [
    "**Open-source Python packages**\n",
    "* [NuPyCEE](https://github.com/NuGrid/NuPyCEE) - NuGrid Python Chemical Evolution Environment\n",
    "* [JINAPyCEE](https://github.com/becot85/JINAPyCEE) - JINA Python Chemical Evolution Environment"
   ]
  },
  {
   "cell_type": "code",
   "execution_count": null,
   "metadata": {
    "collapsed": true
   },
   "outputs": [],
   "source": [
    "# Import the OMEGA+ code and standard packages\n",
    "import matplotlib\n",
    "import matplotlib.pyplot as plt\n",
    "import numpy as np\n",
    "from JINAPyCEE import omega_plus\n",
    "from NuPyCEE import stellab\n",
    "\n",
    "# Create an instance of Stellab\n",
    "s = stellab.stellab()"
   ]
  },
  {
   "cell_type": "markdown",
   "metadata": {},
   "source": [
    "### Select your Input Stellar Yields Table"
   ]
  },
  {
   "cell_type": "markdown",
   "metadata": {},
   "source": [
    "You should re-run the notebook with different yields table. The chemical evolution predictions are very sensitive to the choice of input stellar yields."
   ]
  },
  {
   "cell_type": "code",
   "execution_count": null,
   "metadata": {
    "collapsed": true
   },
   "outputs": [],
   "source": [
    "# Karakas et al. (2010) for AGB stars - http://adsabs.harvard.edu/abs/2010MNRAS.403.1413K\n",
    "# Kobayashi et al. (2006) for massive stars - http://adsabs.harvard.edu/abs/2006ApJ...653.1145K\n",
    "table = 'yield_tables/agb_and_massive_stars_K10_K06_0.5HNe.txt'\n",
    "\n",
    "# NuGrid - Ritter et al. (2018) - http://adsabs.harvard.edu/abs/2018MNRAS.480..538R\n",
    "#table = 'yield_tables/agb_and_massive_stars_nugrid_MESAonly_fryer12delay.txt'"
   ]
  },
  {
   "cell_type": "markdown",
   "metadata": {},
   "source": [
    "### Run OMEGA+ with the Input Parameters Defined in Step 1"
   ]
  },
  {
   "cell_type": "code",
   "execution_count": null,
   "metadata": {
    "collapsed": false
   },
   "outputs": [],
   "source": [
    "# Define the input parameters constrained during Step 1\n",
    "sfe = 0.02\n",
    "t_star = 1.0e8\n",
    "in_mag = 1.0\n",
    "\n",
    "# Run OMEGA+ with your set of parameters (simple Milky Way model)\n",
    "exp_infall = [[in_mag*40, 0.0, 0.8e9], [in_mag*5, 1.0e9, 7.0e9]]\n",
    "o = omega_plus.omega_plus(sfe=sfe, t_star=t_star, exp_infall=exp_infall, \\\n",
    "                          special_timesteps=90, table=table)"
   ]
  },
  {
   "cell_type": "markdown",
   "metadata": {},
   "source": [
    "### Compare your Predictions with Stellar Abundances Data"
   ]
  },
  {
   "cell_type": "code",
   "execution_count": null,
   "metadata": {
    "collapsed": true
   },
   "outputs": [],
   "source": [
    "# Select observational data\n",
    "obs = ['stellab_data/milky_way_data/Cohen_et_al_2013_stellab',\\\n",
    "       'stellab_data/milky_way_data/Jacobson_et_al_2015_stellab',\\\n",
    "       'stellab_data/milky_way_data/Venn_et_al_2004_stellab',\\\n",
    "       'stellab_data/milky_way_data/Bensby_et_al_2014_stellab',\\\n",
    "       'stellab_data/milky_way_data/Nissen_et_al_2014_stellab',\\\n",
    "       'stellab_data/milky_way_data/Battistini_Bensby_2015_stellab',\\\n",
    "       'stellab_data/milky_way_data/Battistini_Bensby_2016_stellab']"
   ]
  },
  {
   "cell_type": "code",
   "execution_count": null,
   "metadata": {
    "collapsed": false
   },
   "outputs": [],
   "source": [
    "# Select the abundance ratios.\n",
    "yaxis = '[Si/Fe]'\n",
    "xaxis = '[Fe/H]'\n",
    "\n",
    "# Plot stellar abundances data with STELLAB.\n",
    "%matplotlib nbagg\n",
    "s.plot_spectro(xaxis=xaxis, yaxis=yaxis, obs=obs, norm='Asplund_et_al_2009')\n",
    "\n",
    "# Extract the numerical prediction of OMEGA+ using the \"return_x_y\" argument.\n",
    "xy_o = o.inner.plot_spectro(xaxis=xaxis, yaxis=yaxis, \\\n",
    "                            return_x_y=True, solar_norm='Asplund_et_al_2009')\n",
    "\n",
    "# Overplot your chemical evolution predictions on top of observations.\n",
    "# Here I plot a thicker white line behind the black line to improve its\n",
    "# visibility when the line goes through many data points.\n",
    "plt.plot(xy_o[0], xy_o[1], color='w', linewidth=3.0)\n",
    "plt.plot(xy_o[0], xy_o[1], color='k', linewidth=1.5, label='OMEGA+')\n",
    "\n",
    "# Update the legend and set the X and Y axis limits.\n",
    "plt.legend(loc='center left', bbox_to_anchor=(1.01, 0.5), markerscale=0.8, fontsize=14)\n",
    "plt.xlim(-4.5,0.75)\n",
    "plt.ylim(-1.,1.)"
   ]
  },
  {
   "cell_type": "markdown",
   "metadata": {},
   "source": [
    "# Exercise 1\n",
    "* Explain the origin of **decreasing trends at [Fe/H] > -1** for [Si/Fe]-vs-[Fe/H].\n",
    "* To succeed, use the plotting functions in OMEGA+ presented in Step 2. This will allow you to understand which nucleosynthetic events produce most of each individual elements.\n",
    "* **Important reminder:** [Fe/H] is a proxy for time (see Step 1)."
   ]
  },
  {
   "cell_type": "code",
   "execution_count": null,
   "metadata": {
    "collapsed": true
   },
   "outputs": [],
   "source": [
    "# Create additional cells here to complete the exercise."
   ]
  },
  {
   "cell_type": "markdown",
   "metadata": {},
   "source": [
    "# Exercise 2\n",
    "* Re-run the notebook with a different abundances [A/B] ratios."
   ]
  },
  {
   "cell_type": "markdown",
   "metadata": {},
   "source": [
    "# Exercise 3\n",
    "* Re-run the notebook with a different yields table (see above). This is to show how chemical evolution predictions are sensitive to the choice of input stellar yields."
   ]
  },
  {
   "cell_type": "markdown",
   "metadata": {},
   "source": [
    "# Exercise 4 (optional)\n",
    "* Try to find a weird feature in your predictions and isolate the stellar models that cause that feature.\n",
    "* To succeed, run SYGMA and use the plotting function presented in Step 2.\n",
    "    * The available metallicities are:\n",
    "        * Z = 0.0001, 0.001, 0.004, 0.008, 0.02 for table = 'yield_tables/agb_and_massive_stars_K10_K06_0.5HNe.txt'\n",
    "        * Z = 0.0001, 0.001, 0.006, 0.01, 0.02 for table = 'yield_tables/agb_and_massive_stars_nugrid_MESAonly_fryer12delay.txt'\n",
    "* Once isolated, you can talk to stellar modelers and/or use NuGrid tools to analyze the target models in more details."
   ]
  },
  {
   "cell_type": "code",
   "execution_count": null,
   "metadata": {
    "collapsed": true
   },
   "outputs": [],
   "source": []
  }
 ],
 "metadata": {
  "kernelspec": {
   "display_name": "Python 3",
   "language": "python",
   "name": "python3"
  },
  "language_info": {
   "codemirror_mode": {
    "name": "ipython",
    "version": 3
   },
   "file_extension": ".py",
   "mimetype": "text/x-python",
   "name": "python",
   "nbconvert_exporter": "python",
   "pygments_lexer": "ipython3",
   "version": "3.4.8"
  }
 },
 "nbformat": 4,
 "nbformat_minor": 0
}
