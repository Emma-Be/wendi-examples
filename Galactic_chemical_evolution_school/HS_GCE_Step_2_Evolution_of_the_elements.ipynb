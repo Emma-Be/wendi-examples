{
 "cells": [
  {
   "cell_type": "markdown",
   "metadata": {},
   "source": [
    "# Step 2 - Evolution of the Elements in your Milky Way Model"
   ]
  },
  {
   "cell_type": "markdown",
   "metadata": {},
   "source": [
    "This notebooks presents how to plot the evolution of the elements using OMEGA+."
   ]
  },
  {
   "cell_type": "markdown",
   "metadata": {},
   "source": [
    "**Open-source Python packages**\n",
    "* [NuPyCEE](https://github.com/NuGrid/NuPyCEE) - NuGrid Python Chemical Evolution Environment\n",
    "* [JINAPyCEE](https://github.com/becot85/JINAPyCEE) - JINA Python Chemical Evolution Environment"
   ]
  },
  {
   "cell_type": "code",
   "execution_count": null,
   "metadata": {
    "collapsed": true
   },
   "outputs": [],
   "source": [
    "# Import the OMEGA+ code and standard packages\n",
    "import matplotlib\n",
    "import matplotlib.pyplot as plt\n",
    "import numpy as np\n",
    "from JINAPyCEE import omega_plus\n",
    "from NuPyCEE import sygma"
   ]
  },
  {
   "cell_type": "markdown",
   "metadata": {},
   "source": [
    "# Your Tasks"
   ]
  },
  {
   "cell_type": "markdown",
   "metadata": {},
   "source": [
    "* Learn how to look at the contribution of massive stars, low- and intermediate-mass AGB stars, and Type Ia supernovae, on the evolution of a particular element in your galaxy model.\n",
    "* Isolate the stellar models that are contributing the most to the chemical evolution of a particular element.\n",
    "* There will be a default target element, but you should explore other elements as well."
   ]
  },
  {
   "cell_type": "markdown",
   "metadata": {},
   "source": [
    "### Select your Input Stellar Yields Table"
   ]
  },
  {
   "cell_type": "code",
   "execution_count": null,
   "metadata": {
    "collapsed": false
   },
   "outputs": [],
   "source": [
    "# NuGrid - Ritter et al. (2018) - http://adsabs.harvard.edu/abs/2018MNRAS.480..538R\n",
    "table = 'yield_tables/agb_and_massive_stars_nugrid_MESAonly_fryer12delay.txt'"
   ]
  },
  {
   "cell_type": "markdown",
   "metadata": {},
   "source": [
    "### Run OMEGA+ with the Input Parameters Defined in Step 1"
   ]
  },
  {
   "cell_type": "code",
   "execution_count": null,
   "metadata": {
    "collapsed": false
   },
   "outputs": [],
   "source": [
    "# Define the input parameters constrained during Step 1\n",
    "sfe = 0.02\n",
    "t_star = 1.0e8\n",
    "in_mag = 1.0\n",
    "\n",
    "# Run OMEGA+ with your set of parameters (simple Milky Way model)\n",
    "exp_infall = [[in_mag*40, 0.0, 0.8e9], [in_mag*5, 1.0e9, 7.0e9]]\n",
    "o = omega_plus.omega_plus(sfe=sfe, t_star=t_star, exp_infall=exp_infall, \\\n",
    "                          special_timesteps=90, table=table)"
   ]
  },
  {
   "cell_type": "markdown",
   "metadata": {},
   "source": [
    "### Select your Element"
   ]
  },
  {
   "cell_type": "code",
   "execution_count": null,
   "metadata": {
    "collapsed": false
   },
   "outputs": [],
   "source": [
    "# Target element (or isotope)\n",
    "# Element nomenclature: First letter in capital. e.g., C, N, O, Mg, ..\n",
    "# Isotope nomenclature: O-16, Fe-56, ..\n",
    "specie = 'C'\n",
    "\n",
    "# Verify that the target specie is available\n",
    "if specie in o.inner.history.elements or specie in o.inner.history.isotopes:\n",
    "    print('The element/isotope is available.')\n",
    "else:\n",
    "    print('Error - The element/isotope IS NOT available, please select a new one.')"
   ]
  },
  {
   "cell_type": "markdown",
   "metadata": {},
   "source": [
    "### Plot the Evolution of the Mass of the Selected Element"
   ]
  },
  {
   "cell_type": "markdown",
   "metadata": {},
   "source": [
    "**Note:** The mass of a given element in the gas reservoir can decrease as a function of time (Galactic age), since star formation continously locks elements inside stars. "
   ]
  },
  {
   "cell_type": "code",
   "execution_count": null,
   "metadata": {
    "collapsed": false
   },
   "outputs": [],
   "source": [
    "%matplotlib nbagg\n",
    "o.inner.plot_mass(specie=specie)\n",
    "plt.xlabel('Galactic age [yr]')\n",
    "plt.ylabel('Mass of '+specie)\n",
    "#plt.xscale('linear')\n",
    "#plt.ylim(1e3,6e7)"
   ]
  },
  {
   "cell_type": "markdown",
   "metadata": {},
   "source": [
    "### Look at the Contribution of Different Sources"
   ]
  },
  {
   "cell_type": "code",
   "execution_count": null,
   "metadata": {
    "collapsed": false
   },
   "outputs": [],
   "source": [
    "%matplotlib nbagg\n",
    "o.inner.plot_mass(specie=specie)\n",
    "o.inner.plot_mass(specie=specie, source='massive')\n",
    "o.inner.plot_mass(specie=specie, source='agb')\n",
    "o.inner.plot_mass(specie=specie, source='sn1a')\n",
    "plt.xlabel('Galactic age [yr]')\n",
    "plt.ylabel('Mass of '+specie)\n",
    "#plt.xscale('linear')\n",
    "#plt.ylim(1e3,6e7)"
   ]
  },
  {
   "cell_type": "markdown",
   "metadata": {},
   "source": [
    "## Questions"
   ]
  },
  {
   "cell_type": "markdown",
   "metadata": {},
   "source": [
    "* Can you find an element that is significantly produced by **massive stars**?\n",
    "\n",
    "* Can you find an element that is significantly produced by **AGB stars**?\n",
    "\n",
    "* Can you find an element that is significantly produced by **Type Ia supernovae**?"
   ]
  },
  {
   "cell_type": "markdown",
   "metadata": {},
   "source": [
    "# Identify the Important Stellar Models"
   ]
  },
  {
   "cell_type": "markdown",
   "metadata": {},
   "source": [
    "In this section, you will use SYGMA ([Ritter et al. 2018](http://adsabs.harvard.edu/abs/2018ApJS..237...42R)) to identify which stellar model(s) contribute the most to the production of the target element in your Milky Way model.\n",
    "\n",
    "**Reminder:** SYGMA is a simple stellar population code that follows the ejecta of a stellar cluster as a function of time. The basic ingredients are the initial mass function, the stellar yields, and the stellar lifetimes. With SYGMA, all stars are formed at the same time, with the same initial chemical composition.\n",
    "\n",
    "**Reminder:** OMEGA+ is a galaxy code that combines many stellar populations, where each one is created using SYGMA. Each stellar population is distributed in time (Galactic age), according to the star formation history."
   ]
  },
  {
   "cell_type": "code",
   "execution_count": null,
   "metadata": {
    "collapsed": false
   },
   "outputs": [],
   "source": [
    "# Run SYGMA with two different initial metallicities (Z --> mass fraction)\n",
    "# These are not a galaxy simulations, they are stellar population simulations.\n",
    "s_0_01   = sygma.sygma(iniZ=0.01,   table=table)\n",
    "s_0_0001 = sygma.sygma(iniZ=0.0001, table=table)"
   ]
  },
  {
   "cell_type": "code",
   "execution_count": null,
   "metadata": {
    "collapsed": false
   },
   "outputs": [],
   "source": [
    "# Target element (or isotope)\n",
    "# Element nomenclature: First letter in capital. e.g., C, N, O, Mg, ..\n",
    "# Isotope nomenclature: O-16, Fe-56, ..\n",
    "specie = 'C'\n",
    "# Note: Nitrogen is an interesting one ..\n",
    "\n",
    "# Verify that the target specie is available\n",
    "if specie in s_0_01.history.elements or specie in o.inner.history.isotopes:\n",
    "    print('The element/isotope is available.')\n",
    "else:\n",
    "    print('Error - The element/isotope IS NOT available, please select a new one.')"
   ]
  },
  {
   "cell_type": "markdown",
   "metadata": {},
   "source": [
    "### Plot the Contribution of the Stellar Models"
   ]
  },
  {
   "cell_type": "markdown",
   "metadata": {},
   "source": [
    "**Important:** The following plot does not include Type Ia supernovae.\n",
    "\n",
    "**Note:** The exact values on the y-axis in the following plot is not too important for this exercise. The only important part is that stars with the highest y-axis values are the ones that contribute the most to the chemical evolution of the target element, when using a galaxy code such as OMEGA+.\n",
    "\n",
    "**Note:** The contribution of each star is weighted by the initial mass function."
   ]
  },
  {
   "cell_type": "code",
   "execution_count": null,
   "metadata": {
    "collapsed": false
   },
   "outputs": [],
   "source": [
    "%matplotlib nbagg\n",
    "s_0_01.plot_mass_range_contributions(  specie=specie, color='b', label='Z=0.01')\n",
    "s_0_0001.plot_mass_range_contributions(specie=specie, color='r', label='Z=0.0001')\n",
    "plt.xlabel('Initial stellar mass [M$_\\odot$]')\n",
    "plt.title('Production of '+specie)"
   ]
  },
  {
   "cell_type": "markdown",
   "metadata": {},
   "source": [
    "## Exercise"
   ]
  },
  {
   "cell_type": "markdown",
   "metadata": {},
   "source": [
    "Redo the experiment with different elements or different isotopes."
   ]
  },
  {
   "cell_type": "markdown",
   "metadata": {},
   "source": [
    "# ===================\n",
    "# Extra Material (optional)\n",
    "# ==================="
   ]
  },
  {
   "cell_type": "markdown",
   "metadata": {},
   "source": [
    "### Plot the Cumulated Ejected Mass of the Selected Element, for a Stellar Population"
   ]
  },
  {
   "cell_type": "markdown",
   "metadata": {},
   "source": [
    "**Note:** Because the gas reservoir in SYGMA only accounts for the stellar ejecta (there is no interstellar medium gas), the \"plot_mass\" function shows the cumulated (integrated) mass ejected by all the stars formed at time $t=0$."
   ]
  },
  {
   "cell_type": "code",
   "execution_count": null,
   "metadata": {
    "collapsed": false
   },
   "outputs": [],
   "source": [
    "%matplotlib nbagg\n",
    "s_0_01.plot_mass(specie=specie)\n",
    "s_0_01.plot_mass(specie=specie, source='massive')\n",
    "s_0_01.plot_mass(specie=specie, source='agb')\n",
    "s_0_01.plot_mass(specie=specie, source='sn1a')\n",
    "plt.xlabel('Stellar population age [yr]')\n",
    "plt.ylabel('Cumulated ejected mass of '+specie)\n",
    "#plt.xscale('linear')\n",
    "#plt.ylim(1e3,6e7)"
   ]
  },
  {
   "cell_type": "code",
   "execution_count": null,
   "metadata": {
    "collapsed": true
   },
   "outputs": [],
   "source": []
  }
 ],
 "metadata": {
  "kernelspec": {
   "display_name": "Python 3",
   "language": "python",
   "name": "python3"
  },
  "language_info": {
   "codemirror_mode": {
    "name": "ipython",
    "version": 3
   },
   "file_extension": ".py",
   "mimetype": "text/x-python",
   "name": "python",
   "nbconvert_exporter": "python",
   "pygments_lexer": "ipython3",
   "version": "3.4.8"
  }
 },
 "nbformat": 4,
 "nbformat_minor": 0
}
