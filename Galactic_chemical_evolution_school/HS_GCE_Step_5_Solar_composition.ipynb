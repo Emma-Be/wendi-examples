{
 "cells": [
  {
   "cell_type": "markdown",
   "metadata": {},
   "source": [
    "# Step 5 - Solar Composition"
   ]
  },
  {
   "cell_type": "markdown",
   "metadata": {},
   "source": [
    "Besides stellar abundances data, the abundance distribution of the Sun can be used to constrain your Milky Way model. The solar composition represents only one timeframe in the history of the Milky Way. But the advantage is that there are data for all the elements and isotopes. This notebook will show you how to compare your chemical evolution predictions with the solar composition."
   ]
  },
  {
   "cell_type": "markdown",
   "metadata": {},
   "source": [
    "**Open-source Python packages**\n",
    "* [NuPyCEE](https://github.com/NuGrid/NuPyCEE) - NuGrid Python Chemical Evolution Environment\n",
    "* [JINAPyCEE](https://github.com/becot85/JINAPyCEE) - JINA Python Chemical Evolution Environment"
   ]
  },
  {
   "cell_type": "code",
   "execution_count": null,
   "metadata": {
    "collapsed": true
   },
   "outputs": [],
   "source": [
    "# Import the OMEGA+ code and standard packages\n",
    "import matplotlib\n",
    "import matplotlib.pyplot as plt\n",
    "import numpy as np\n",
    "from JINAPyCEE import omega_plus"
   ]
  },
  {
   "cell_type": "code",
   "execution_count": null,
   "metadata": {
    "collapsed": true
   },
   "outputs": [],
   "source": [
    "# Load the functions for extracting abundances distributions\n",
    "%run script_solar_ab.py"
   ]
  },
  {
   "cell_type": "markdown",
   "metadata": {},
   "source": [
    "### Select your Input Stellar Yields Table\n",
    "Un-comment only one option. As a first pass, use the default option. **Don't forget to re-run OMEGA+** when choosing a different table."
   ]
  },
  {
   "cell_type": "code",
   "execution_count": null,
   "metadata": {
    "collapsed": true
   },
   "outputs": [],
   "source": [
    "# Karakas et al. (2010) for AGB stars - http://adsabs.harvard.edu/abs/2010MNRAS.403.1413K\n",
    "# Kobayashi et al. (2006) for massive stars - http://adsabs.harvard.edu/abs/2006ApJ...653.1145K\n",
    "table = 'yield_tables/agb_and_massive_stars_K10_K06_0.5HNe.txt'\n",
    "\n",
    "# NuGrid - Ritter et al. (2018) - http://adsabs.harvard.edu/abs/2018MNRAS.480..538R\n",
    "#table = 'yield_tables/agb_and_massive_stars_nugrid_MESAonly_fryer12delay.txt'\n",
    "\n",
    "# Karakas & Lugaro et al. (2016) for AGB stars - http://adsabs.harvard.edu/abs/2016ApJ...825...26K\n",
    "# NuGrid - Ritter et al. (2018) for massive stars - http://adsabs.harvard.edu/abs/2018MNRAS.480..538R\n",
    "#table = 'yield_tables/agb_and_massive_stars_KL16_nugrid_fryer12delay.txt'"
   ]
  },
  {
   "cell_type": "markdown",
   "metadata": {},
   "source": [
    "### Run OMEGA+ with the Input Parameters Defined in Step 1"
   ]
  },
  {
   "cell_type": "code",
   "execution_count": null,
   "metadata": {
    "collapsed": false
   },
   "outputs": [],
   "source": [
    "# Define the input parameters constrained during Step 1.\n",
    "sfe = 0.02\n",
    "t_star = 1.0e8\n",
    "in_mag = 1.0\n",
    "\n",
    "# Number of Type Ia supernova per units of stellar mass formed.\n",
    "# You will adjust this number in Exercise 1.\n",
    "nb_1a_per_m = 1.0e-2\n",
    "\n",
    "# Number of neutron star mergers per units of stellar mass formed.\n",
    "# You will adjust this number in Exercise 3.\n",
    "nb_nsm_per_m = 1.0e-6\n",
    "\n",
    "# Run OMEGA+ with your set of parameters (simple Milky Way model).\n",
    "exp_infall = [[in_mag*40, 0.0, 0.8e9], [in_mag*5, 1.0e9, 7.0e9]]\n",
    "r_process_yields = 'yield_tables/r_process_arnould_2007.txt'\n",
    "o = omega_plus.omega_plus(sfe=sfe, t_star=t_star, exp_infall=exp_infall, \\\n",
    "                          special_timesteps=120, table=table, nb_1a_per_m=nb_1a_per_m,\\\n",
    "                          ns_merger_on=True, nb_nsm_per_m=nb_nsm_per_m,\n",
    "                          t_nsm_coal=1.0e8, nsmerger_table=r_process_yields)\n",
    "\n",
    "# Timestep index where the Sun should aproximately form.\n",
    "# The index is only valid with \"special_timesteps=120\".\n",
    "# Do not modify.\n",
    "i_t_Sun = 115\n",
    "\n",
    "# Get source contributions (this needs to be right after running OMEGA+)\n",
    "m_el_all, m_el_agb, m_el_massive, m_el_sn1a, m_el_nsm = \\\n",
    "    get_individual_sources(o.inner, i_step_sol=i_t_Sun)"
   ]
  },
  {
   "cell_type": "markdown",
   "metadata": {},
   "source": [
    "# Exercise 1. Iron-Peak Elements\n",
    "* Find the number of Type Ia supernovae needed in order to match the iron-peak elements in the Sun.\n",
    "    * Modify the input parameter \"nb_1a_per_m\" (see above)."
   ]
  },
  {
   "cell_type": "code",
   "execution_count": null,
   "metadata": {
    "collapsed": false
   },
   "outputs": [],
   "source": [
    "# Define the figure size\n",
    "%matplotlib nbagg\n",
    "fig = plt.figure(figsize=(8,4.0))\n",
    "matplotlib.rcParams.update({'font.size': 14.0})\n",
    "\n",
    "# Plot solar abundance data\n",
    "plt.plot(solar_Z, solar_ab, color='k', marker='o', linewidth=4, alpha=0.5, label='Solar')\n",
    "\n",
    "# All sources combined\n",
    "plt.plot(Z_charge, m_el_all, color='orange', label='All sources', alpha=1.0, linestyle='-', linewidth=2)\n",
    "\n",
    "# Type Ia supernovae\n",
    "plt.plot(Z_charge, m_el_sn1a, color='g', label='SNe Ia', alpha=0.8, linestyle='-', marker='s')\n",
    "\n",
    "# Massive stars (core-collapse supernovae)\n",
    "#plt.plot(Z_charge, m_el_massive, color='b', label='Massive', alpha=0.8, linestyle='-', marker='^')\n",
    "\n",
    "# AGB stars\n",
    "#plt.plot(Z_charge, m_el_agb, color='r', label='AGB', alpha=0.8, linestyle='-', marker='x')\n",
    "\n",
    "# Neutron star mergers (r-process)\n",
    "#plt.plot(Z_charge, m_el_nsm, color='c', label='NS mergers', alpha=0.8, linestyle='-', marker='s')\n",
    "\n",
    "# Add element annotations\n",
    "for i in range(0,nb_elements):\n",
    "    plt.annotate(elements[i], xy=(solar_Z[i],yy[i]), color='k',\\\n",
    "                 fontsize=13, ha='center', va='center')\n",
    "\n",
    "# Label and axis\n",
    "plt.legend(fontsize=13, loc='center left', bbox_to_anchor=(1, 0.5))\n",
    "plt.xlabel('Z (charge number)', fontsize=16)\n",
    "plt.ylabel('X (mass fraction)', fontsize=16)\n",
    "plt.xlim(19.5,30.5)\n",
    "plt.ylim(1e-9,3e-1)\n",
    "plt.yscale('log')\n",
    "\n",
    "# Frame tuning\n",
    "plt.subplots_adjust(top=0.95)\n",
    "plt.subplots_adjust(right=0.75)\n",
    "plt.subplots_adjust(left=0.15)\n",
    "plt.subplots_adjust(bottom=0.14)"
   ]
  },
  {
   "cell_type": "markdown",
   "metadata": {
    "collapsed": true
   },
   "source": [
    "# Exercise 2. Light Elements\n",
    "* Which elements are mostly produced by massive stars?\n",
    "* Which elements are mostly produced by low- and intermediate-mass AGB stars?\n",
    "* Are the results consistent with what you found in Step 2?\n",
    "* Which elements are not well reproduced by your Milky Way model?\n",
    "\n",
    "**Important note:** You need to callibrate your Type Ia supernovae first (Exercise 1)."
   ]
  },
  {
   "cell_type": "code",
   "execution_count": null,
   "metadata": {
    "collapsed": false
   },
   "outputs": [],
   "source": [
    "# Define the figure size\n",
    "%matplotlib nbagg\n",
    "fig = plt.figure(figsize=(8,4.0))\n",
    "matplotlib.rcParams.update({'font.size': 14.0})\n",
    "\n",
    "# Plot solar abundance data\n",
    "plt.plot(solar_Z, solar_ab, color='k', marker='o', linewidth=4, alpha=0.5, label='Solar')\n",
    "\n",
    "# All sources combined\n",
    "plt.plot(Z_charge, m_el_all, color='orange', label='All sources', alpha=1.0, linestyle='-', linewidth=2)\n",
    "\n",
    "# Type Ia supernovae\n",
    "#plt.plot(Z_charge, m_el_sn1a, color='g', label='SNe Ia', alpha=0.8, linestyle='-', marker='s')\n",
    "\n",
    "# Massive stars (core-collapse supernovae)\n",
    "plt.plot(Z_charge, m_el_massive, color='b', label='Massive', alpha=0.8, linestyle='-', marker='^')\n",
    "\n",
    "# AGB stars\n",
    "plt.plot(Z_charge, m_el_agb, color='r', label='AGB', alpha=0.8, linestyle='-', marker='x')\n",
    "\n",
    "# Neutron star mergers (r-process)\n",
    "#plt.plot(Z_charge, m_el_nsm, color='c', label='NS mergers', alpha=0.8, linestyle='-', marker='s')\n",
    "\n",
    "# Add element annotations\n",
    "for i in range(0,nb_elements):\n",
    "    plt.annotate(elements[i], xy=(solar_Z[i],yy[i]), color='k',\\\n",
    "                 fontsize=13, ha='center', va='center')\n",
    "\n",
    "# Label and axis\n",
    "plt.legend(fontsize=13, loc='center left', bbox_to_anchor=(1, 0.5))\n",
    "plt.xlabel('Z (charge number)', fontsize=16)\n",
    "plt.ylabel('X (mass fraction)', fontsize=16)\n",
    "plt.xlim(5.5,22.5)\n",
    "plt.ylim(1e-9,3e-1)\n",
    "plt.yscale('log')\n",
    "\n",
    "# Frame tuning\n",
    "plt.subplots_adjust(top=0.95)\n",
    "plt.subplots_adjust(right=0.75)\n",
    "plt.subplots_adjust(left=0.15)\n",
    "plt.subplots_adjust(bottom=0.14)"
   ]
  },
  {
   "cell_type": "markdown",
   "metadata": {},
   "source": [
    "# Exercise 3. Neutron-Capture Elements\n",
    "* Find the number of neutron star (NS) mergers needed in order to match neutron-capture elements in the Sun.\n",
    "    * Modify the input parameter \"nb_nsm_per_m\" (see above).\n",
    "* Explore the impact of using different AGB yields for the production of s-process elements.\n",
    "    * Modify the input parameter \"table\" (see above).\n",
    "\n",
    "**Important note:** For this exercise, the following table **cannot be used**: table = 'yield_tables/agb_and_massive_stars_K10_K06_0.5HNe.txt'\n",
    "\n",
    "**Important note:** This is assuming NS mergers are the only r-process site. **This may not be true**.\n",
    "\n",
    "**Useful information:** You can make zooms on the figure below to look at a certain region in more details."
   ]
  },
  {
   "cell_type": "code",
   "execution_count": null,
   "metadata": {
    "collapsed": false
   },
   "outputs": [],
   "source": [
    "# Define the figure size\n",
    "%matplotlib nbagg\n",
    "fig = plt.figure(figsize=(8,4.0))\n",
    "matplotlib.rcParams.update({'font.size': 14.0})\n",
    "\n",
    "# Plot solar abundance data\n",
    "plt.plot(solar_Z, solar_ab, color='k', marker='o', linewidth=4, alpha=0.5, label='Solar')\n",
    "\n",
    "# All sources combined\n",
    "plt.plot(Z_charge, m_el_all, color='orange', label='All sources', alpha=1.0, linestyle='-', linewidth=2)\n",
    "\n",
    "# Type Ia supernovae\n",
    "#plt.plot(Z_charge, m_el_sn1a, color='g', label='SNe Ia', alpha=0.8, linestyle='-', marker='s')\n",
    "\n",
    "# Massive stars (core-collapse supernovae)\n",
    "#plt.plot(Z_charge, m_el_massive, color='b', label='Massive', alpha=0.8, linestyle='-', marker='^')\n",
    "\n",
    "# AGB stars\n",
    "plt.plot(Z_charge, m_el_agb, color='r', label='AGB', alpha=0.8, linestyle='-', marker='x')\n",
    "\n",
    "# Neutron star mergers (r-process)\n",
    "plt.plot(Z_charge, m_el_nsm, color='c', label='NS mergers', alpha=0.8, linestyle='-', marker='^')\n",
    "\n",
    "# Add element annotations\n",
    "for i in range(0,nb_elements):\n",
    "    plt.annotate(elements[i], xy=(solar_Z[i],yy[i]), color='k',\\\n",
    "                 fontsize=13, ha='center', va='center')\n",
    "\n",
    "# Label and axis\n",
    "plt.legend(fontsize=13, frameon=False)\n",
    "plt.xlabel('Z (charge number)', fontsize=16)\n",
    "plt.ylabel('X (mass fraction)', fontsize=16)\n",
    "plt.xlim(30.5,82.5)\n",
    "plt.ylim(1e-11,1e-4)\n",
    "plt.yscale('log')\n",
    "\n",
    "# Frame tuning\n",
    "plt.subplots_adjust(top=0.95)\n",
    "plt.subplots_adjust(right=0.95)\n",
    "plt.subplots_adjust(left=0.15)\n",
    "plt.subplots_adjust(bottom=0.14)"
   ]
  },
  {
   "cell_type": "markdown",
   "metadata": {},
   "source": [
    "# Exercise 4 (optional)\n",
    "* If you find weird features, you can use SYGMA to isolate the stellar models that generate them."
   ]
  },
  {
   "cell_type": "code",
   "execution_count": null,
   "metadata": {
    "collapsed": true
   },
   "outputs": [],
   "source": []
  }
 ],
 "metadata": {
  "kernelspec": {
   "display_name": "Python 3",
   "language": "python",
   "name": "python3"
  },
  "language_info": {
   "codemirror_mode": {
    "name": "ipython",
    "version": 3
   },
   "file_extension": ".py",
   "mimetype": "text/x-python",
   "name": "python",
   "nbconvert_exporter": "python",
   "pygments_lexer": "ipython3",
   "version": "3.4.8"
  }
 },
 "nbformat": 4,
 "nbformat_minor": 0
}
