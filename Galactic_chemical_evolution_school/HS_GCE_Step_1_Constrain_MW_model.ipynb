{
 "cells": [
  {
   "cell_type": "markdown",
   "metadata": {},
   "source": [
    "# Step 1 - Constrain your Milky Way Model"
   ]
  },
  {
   "cell_type": "markdown",
   "metadata": {},
   "source": [
    "This notebook presents how to plot the basic galaxy evolution properties of your simple Milky Way model, using OMEGA+\n",
    "([Côté et al. 2018](http://adsabs.harvard.edu/abs/2018ApJ...859...67C)). Those plots will allow you to calibrate your model against several observations (taken from [Kubryk et al. 2015](http://adsabs.harvard.edu/abs/2015A%26A...580A.126K))."
   ]
  },
  {
   "cell_type": "markdown",
   "metadata": {},
   "source": [
    "**Open-source Python packages**\n",
    "* [NuPyCEE](https://github.com/NuGrid/NuPyCEE) - NuGrid Python Chemical Evolution Environment\n",
    "* [JINAPyCEE](https://github.com/becot85/JINAPyCEE) - JINA Python Chemical Evolution Environment"
   ]
  },
  {
   "cell_type": "code",
   "execution_count": null,
   "metadata": {
    "collapsed": true
   },
   "outputs": [],
   "source": [
    "# Import the OMEGA+ code and standard packages\n",
    "import matplotlib\n",
    "import matplotlib.pyplot as plt\n",
    "import numpy as np\n",
    "from JINAPyCEE import omega_plus"
   ]
  },
  {
   "cell_type": "markdown",
   "metadata": {},
   "source": [
    "# Your Tasks"
   ]
  },
  {
   "cell_type": "markdown",
   "metadata": {},
   "source": [
    "* Understand the impact of the star formation efficiency and the galactic inflow rate on the general properties of your Milky Way model.\n",
    "* **Find a set of input parameters that reproduce the observational constraints**.\n",
    "    * .. does not need to be perfect!"
   ]
  },
  {
   "cell_type": "markdown",
   "metadata": {},
   "source": [
    "### Key Equation for Star Formation\n",
    "\n",
    "The global star formation rate ($\\dot{M}_\\star$) inside the galaxy model at time $t$ depends on the mass of gas $M_{gas}$ inside the galaxy, the star formation efficiency $f_\\star$, and the star formation timescale $\\tau_\\star$ (e.g., <a href=\"http://adsabs.harvard.edu/abs/2006RPPh...69.3101B\">Baugh 2006</a>; <a href=\"http://adsabs.harvard.edu/abs/2015ARA%26A..53...51S\">Somerville & Davé 2015</a>).\n",
    "\n",
    "$$\\dot{M}_\\star(t)=f_\\star\\frac{M_\\mathrm{gas}(t)}{\\tau_\\star}\\quad\\mbox{[M$_\\odot$ yr$^{-1}$]}$$"
   ]
  },
  {
   "cell_type": "markdown",
   "metadata": {},
   "source": [
    "### Select Input Parameters and Run OMEGA+"
   ]
  },
  {
   "cell_type": "markdown",
   "metadata": {},
   "source": [
    "In the following example, you will be using a galactic inflow prescription that is similar to the two-infall model presented in [Chiappini et al. (1997)](http://adsabs.harvard.edu/abs/1997ApJ...477..765C)."
   ]
  },
  {
   "cell_type": "code",
   "execution_count": null,
   "metadata": {
    "collapsed": false
   },
   "outputs": [],
   "source": [
    "# Star formation efficiency (f_\\star) --> [dimensionless]\n",
    "sfe = 0.01\n",
    "\n",
    "# Star formation timescale (\\tau_\\star) --> [yr]\n",
    "t_star = 1.0e8\n",
    "\n",
    "# Galactic inflow rate\n",
    "# Magnitude (strength) of the inflow rate\n",
    "in_mag = 1.0\n",
    "\n",
    "# !! Do not modify !! as a first pass..\n",
    "exp_infall = [[in_mag*40, 0.0, 0.8e9], [in_mag*5, 1.0e9, 7.0e9]]\n",
    "\n",
    "# Run OMEGA+ with the first set of parameters\n",
    "o_1 = omega_plus.omega_plus(sfe=sfe, t_star=t_star, exp_infall=exp_infall, special_timesteps=90)"
   ]
  },
  {
   "cell_type": "code",
   "execution_count": null,
   "metadata": {
    "collapsed": false
   },
   "outputs": [],
   "source": [
    "# Set of parameters for the second run\n",
    "# !! Please modify whatever you want !!\n",
    "sfe = 0.04\n",
    "t_star = 1.0e8\n",
    "in_mag = 1.0\n",
    "\n",
    "# Run OMEGA+ with the second set of parameters\n",
    "exp_infall = [[in_mag*40, 0.0, 0.8e9], [in_mag*5, 1.0e9, 7.0e9]]\n",
    "o_2 = omega_plus.omega_plus(sfe=sfe, t_star=t_star, exp_infall=exp_infall, special_timesteps=90)"
   ]
  },
  {
   "cell_type": "markdown",
   "metadata": {},
   "source": [
    "### Plot the Star Formation History"
   ]
  },
  {
   "cell_type": "markdown",
   "metadata": {},
   "source": [
    "**Note:** The OMEGA instance (central galaxy in OMEGA+) can be accessed with the \"inner\" variable.\n",
    "\n",
    "The estimated total stellar mass of the Milky Way is about $5\\times10^{10}$ M$_\\odot$.\n",
    "\n",
    "The current star formation rate (SFR) is about 2 M$_\\odot$ yr$^{-1}$. This is the value your model should have at the end of the simulation (at a Galactic age $t=13$ Gyr).\n",
    "\n",
    "**Useful Information:** With a higher star formation efficiency, the gas reservoir will be converted into stars more rapidly.\n",
    "\n",
    "**Useful Information:** The magnitude of the star formation rate is very sensitive to the galactic inflow rate."
   ]
  },
  {
   "cell_type": "code",
   "execution_count": null,
   "metadata": {
    "collapsed": false
   },
   "outputs": [],
   "source": [
    "# Print the total stellar mass formed\n",
    "print(\"Integrated stellar mass for Run 1:\",'%.2e'%sum(o_1.inner.history.m_locked),'M_sun')\n",
    "print(\"Integrated stellar mass for Run 2:\",'%.2e'%sum(o_2.inner.history.m_locked),'M_sun')"
   ]
  },
  {
   "cell_type": "code",
   "execution_count": null,
   "metadata": {
    "collapsed": false
   },
   "outputs": [],
   "source": [
    "# Plot the evolution of the star formation rate (SFR)\n",
    "# using the OMEGA plotting function.\n",
    "%matplotlib nbagg\n",
    "o_1.inner.plot_star_formation_rate(color='r', marker='o', label='Run 1')\n",
    "o_2.inner.plot_star_formation_rate(color='b', marker='^', label='Run 2')\n",
    "plt.xlabel('Galactic age [yr]')\n",
    "\n",
    "# Plot the observational constraint (cyan color)\n",
    "plt.plot([13e9,13e9], [0.65,3.0], linewidth=6, color='c', alpha=0.5)"
   ]
  },
  {
   "cell_type": "markdown",
   "metadata": {},
   "source": [
    "### Plot the Evolution of the Mass of Gas"
   ]
  },
  {
   "cell_type": "markdown",
   "metadata": {},
   "source": [
    "The current total mass of gas in the Milky Way is about $7\\times10^{9}$ M$_\\odot$. This is the value your model should have at the end of the simulation (at a Galactic age $t=13$ Gyr).\n",
    "\n",
    "**Useful Information:** The mass of gas depends strongly on the galactic inflow rate."
   ]
  },
  {
   "cell_type": "code",
   "execution_count": null,
   "metadata": {
    "collapsed": false
   },
   "outputs": [],
   "source": [
    "# Plot the evolution of the mass of gas in the\n",
    "# interstellar medium (ISM) using the OMEGA plotting function.\n",
    "%matplotlib nbagg\n",
    "o_1.inner.plot_totmasses(color='r', marker='o', label='Run 1')\n",
    "o_2.inner.plot_totmasses(color='b', marker='^', label='Run 2')\n",
    "plt.xscale('linear')\n",
    "plt.xlabel('Galactic age [yr]')\n",
    "\n",
    "# Plot the observational constraint (cyan color)\n",
    "plt.plot([12.9e9,12.9e9], [3.6e9,12.6e9], linewidth=6, color='c', alpha=0.5)"
   ]
  },
  {
   "cell_type": "markdown",
   "metadata": {},
   "source": [
    "### Plot the Evolution of Iron Abundance [Fe/H]"
   ]
  },
  {
   "cell_type": "markdown",
   "metadata": {},
   "source": [
    "$[A/B]=\\log(n_A/n_B)-\\log(n_A/n_B)_\\odot$"
   ]
  },
  {
   "cell_type": "markdown",
   "metadata": {},
   "source": [
    "To represent the solar neighbourhood, [Fe/H] in your model should reach zero (solar value) about 4.6 Gyr before the end of the simulation, representing the moment the Sun formed.\n",
    "\n",
    "**Useful Information:** The [Fe/H] is mostly sensitive to the star formation efficiency. In other words, it is sensitive to the mass of gas (H) in which stars inject their metals (Fe)."
   ]
  },
  {
   "cell_type": "code",
   "execution_count": null,
   "metadata": {
    "collapsed": false
   },
   "outputs": [],
   "source": [
    "# Plot the evolution of [Fe/H], the iron abundance\n",
    "# of the gas inside the galaxy, using the OMEGA plotting function.\n",
    "%matplotlib nbagg\n",
    "o_1.inner.plot_spectro(color='r', marker='o', label='Run 1')\n",
    "o_2.inner.plot_spectro(color='b', marker='^', label='Run 2')\n",
    "plt.ylim(-2,1)\n",
    "plt.xscale('linear')\n",
    "plt.xlabel('Galactic age [yr]')\n",
    "\n",
    "# Plot the solar value (black dotted lines)\n",
    "t_Sun = 13.0e9 - 4.6e9\n",
    "plt.plot([t_Sun,t_Sun], [-2,1], ':k')\n",
    "plt.plot([0,13e9], [0,0], ':k')"
   ]
  },
  {
   "cell_type": "markdown",
   "metadata": {},
   "source": [
    "# ===================\n",
    "# Extra Material (optional)\n",
    "# ==================="
   ]
  },
  {
   "cell_type": "markdown",
   "metadata": {},
   "source": [
    "The following are extra constraints that can be use to further calibrate your Milky Way model."
   ]
  },
  {
   "cell_type": "markdown",
   "metadata": {},
   "source": [
    "### Plot the Evolution of the Galactic Inflow Rate"
   ]
  },
  {
   "cell_type": "markdown",
   "metadata": {},
   "source": [
    "The current galactic inflow rate estimated for the Milky Way is about 1 M$_\\odot$ yr$^{-1}$.\n",
    "\n",
    "**Note:** You will need to extrapolate by eye the inflow rate predictions up to 13 Gyr."
   ]
  },
  {
   "cell_type": "code",
   "execution_count": null,
   "metadata": {
    "collapsed": false
   },
   "outputs": [],
   "source": [
    "# Plot the evolution of the inflow rate using\n",
    "# the OMEGA plotting function.\n",
    "%matplotlib nbagg\n",
    "o_1.inner.plot_inflow_rate(color='r', marker='o', label='Run 1')\n",
    "o_2.inner.plot_inflow_rate(color='b', marker='^', label='Run 2')\n",
    "plt.yscale('log')\n",
    "plt.xlabel('Galactic age [yr]')\n",
    "\n",
    "# Plot the observational constraint (cyan color)\n",
    "plt.plot([13e9,13e9], [0.6,1.6], linewidth=6, color='c', alpha=0.5)"
   ]
  },
  {
   "cell_type": "code",
   "execution_count": null,
   "metadata": {
    "collapsed": true
   },
   "outputs": [],
   "source": []
  }
 ],
 "metadata": {
  "kernelspec": {
   "display_name": "Python 3",
   "language": "python",
   "name": "python3"
  },
  "language_info": {
   "codemirror_mode": {
    "name": "ipython",
    "version": 3
   },
   "file_extension": ".py",
   "mimetype": "text/x-python",
   "name": "python",
   "nbconvert_exporter": "python",
   "pygments_lexer": "ipython3",
   "version": "3.4.8"
  }
 },
 "nbformat": 4,
 "nbformat_minor": 0
}
