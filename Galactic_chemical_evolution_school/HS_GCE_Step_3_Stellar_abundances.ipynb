{
 "cells": [
  {
   "cell_type": "markdown",
   "metadata": {},
   "source": [
    "# Step 3 - Stellar Abundances"
   ]
  },
  {
   "cell_type": "markdown",
   "metadata": {},
   "source": [
    "This notebook presents how to use STELLAB to plot stellar abundances data for the Milky Way. This will be used in Step 4 to constrain your Milky Way model. \n",
    "\n",
    "You will use the following spectroscopic notation,\n",
    "\n",
    "$$[A/B]=\\log(n_A/n_B)-\\log(n_A/n_B)_\\odot$$\n",
    "\n",
    "where n_X is the number density of the element X. [A/B] ratios are expressed in log-space and are normalized to the solar composition."
   ]
  },
  {
   "cell_type": "markdown",
   "metadata": {},
   "source": [
    "**Open-source Python packages**\n",
    "* [NuPyCEE](https://github.com/NuGrid/NuPyCEE) - NuGrid Python Chemical Evolution Environment\n",
    "* [JINAPyCEE](https://github.com/becot85/JINAPyCEE) - JINA Python Chemical Evolution Environment"
   ]
  },
  {
   "cell_type": "code",
   "execution_count": null,
   "metadata": {
    "collapsed": true
   },
   "outputs": [],
   "source": [
    "# Import the OMEGA+ code and standard packages\n",
    "import matplotlib\n",
    "import matplotlib.pyplot as plt\n",
    "import numpy as np\n",
    "from NuPyCEE import stellab\n",
    "\n",
    "# Create an instance of Stellab\n",
    "s = stellab.stellab()"
   ]
  },
  {
   "cell_type": "markdown",
   "metadata": {},
   "source": [
    "### Plot Stellar Abundances for the Milky Way"
   ]
  },
  {
   "cell_type": "markdown",
   "metadata": {},
   "source": [
    "**Useful information:** If not enough data is shown, you can try without the \"obs=obs\" argument in the \"plot_spectro\" function."
   ]
  },
  {
   "cell_type": "code",
   "execution_count": null,
   "metadata": {
    "collapsed": false
   },
   "outputs": [],
   "source": [
    "# Create a list of reference papers\n",
    "obs = ['stellab_data/milky_way_data/Cohen_et_al_2013_stellab',\\\n",
    "       'stellab_data/milky_way_data/Jacobson_et_al_2015_stellab',\\\n",
    "       'stellab_data/milky_way_data/Venn_et_al_2004_stellab',\\\n",
    "       'stellab_data/milky_way_data/Bensby_et_al_2014_stellab',\\\n",
    "       'stellab_data/milky_way_data/Nissen_et_al_2014_stellab',\\\n",
    "       'stellab_data/milky_way_data/Battistini_Bensby_2015_stellab',\\\n",
    "       'stellab_data/milky_way_data/Battistini_Bensby_2016_stellab']\n",
    "\n",
    "# Select your abundance ratios\n",
    "# Typically, the ratios are [X/Fe] vs [Fe/H], but feel free to try different things\n",
    "xaxis = '[Fe/H]'\n",
    "yaxis = '[Ca/Fe]'\n",
    "\n",
    "# Plot data using your selection of data points\n",
    "%matplotlib nbagg\n",
    "s.plot_spectro(xaxis=xaxis, yaxis=yaxis, norm='Asplund_et_al_2009', obs=obs)\n",
    "#s.plot_spectro(xaxis=xaxis, yaxis=yaxis, norm='Asplund_et_al_2009')\n",
    "\n",
    "# Set the range of the x and y axis\n",
    "plt.xlim(-4.5,0.75)\n",
    "plt.ylim(-1.,1.)"
   ]
  },
  {
   "cell_type": "markdown",
   "metadata": {},
   "source": [
    "## Questions\n",
    "* Can you find trends that are **decreasing** at [Fe/H] > -1?\n",
    "* Can you find trends that are **increasing** at [Fe/H] > -1?\n",
    "* Can you find trends that are **flat** at [Fe/H] > -1? .. you can try removing Fe in the yaxis.\n",
    "* Can you explain these features?  .. This will be explored in Step 4 with OMEGA+."
   ]
  },
  {
   "cell_type": "markdown",
   "metadata": {},
   "source": [
    "# ===================\n",
    "# Extra Material (optional)\n",
    "# ==================="
   ]
  },
  {
   "cell_type": "markdown",
   "metadata": {},
   "source": [
    "### List of References for the Available Data"
   ]
  },
  {
   "cell_type": "code",
   "execution_count": null,
   "metadata": {
    "collapsed": false
   },
   "outputs": [],
   "source": [
    "s.list_ref_papers()"
   ]
  },
  {
   "cell_type": "markdown",
   "metadata": {},
   "source": [
    "### Target Different Galaxies"
   ]
  },
  {
   "cell_type": "code",
   "execution_count": null,
   "metadata": {
    "collapsed": false
   },
   "outputs": [],
   "source": [
    "# Choose your galaxy\n",
    "# Available: 'sculptor', 'fornax', 'carina', 'lmc'\n",
    "galaxy = 'sculptor'\n",
    "\n",
    "# Select your abundance ratios\n",
    "xaxis = '[Fe/H]'\n",
    "yaxis = '[Mg/Fe]'\n",
    "\n",
    "# Plot data using your selection of data points\n",
    "%matplotlib nbagg\n",
    "s.plot_spectro(xaxis=xaxis, yaxis=yaxis, norm='Asplund_et_al_2009', galaxy=galaxy)\n",
    "\n",
    "# Set the range of the x and y axis\n",
    "plt.xlim(-4.5,0.0)\n",
    "plt.ylim(-1.,1.)"
   ]
  },
  {
   "cell_type": "markdown",
   "metadata": {
    "collapsed": true
   },
   "source": [
    "## Question\n",
    "* What are the main differences between Milky Way data, and dwarf galaxy data?"
   ]
  },
  {
   "cell_type": "code",
   "execution_count": null,
   "metadata": {
    "collapsed": true
   },
   "outputs": [],
   "source": []
  }
 ],
 "metadata": {
  "kernelspec": {
   "display_name": "Python 3",
   "language": "python",
   "name": "python3"
  },
  "language_info": {
   "codemirror_mode": {
    "name": "ipython",
    "version": 3
   },
   "file_extension": ".py",
   "mimetype": "text/x-python",
   "name": "python",
   "nbconvert_exporter": "python",
   "pygments_lexer": "ipython3",
   "version": "3.4.8"
  }
 },
 "nbformat": 4,
 "nbformat_minor": 0
}
